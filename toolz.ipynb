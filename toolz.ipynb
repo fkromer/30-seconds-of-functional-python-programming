{
 "cells": [
  {
   "cell_type": "markdown",
   "metadata": {},
   "source": [
    "# toolz\n",
    "\n",
    "> A functional standard library for Python.\n",
    "\n",
    "[toolz](https://github.com/pytoolz/toolz)"
   ]
  },
  {
   "cell_type": "markdown",
   "metadata": {},
   "source": [
    "## toolz.dicttoolz.assoc()\n",
    "\n",
    "Return a new dict with new key value pair."
   ]
  },
  {
   "cell_type": "code",
   "execution_count": 1,
   "metadata": {},
   "outputs": [
    {
     "data": {
      "text/plain": [
       "{'x': 2}"
      ]
     },
     "execution_count": 1,
     "metadata": {},
     "output_type": "execute_result"
    }
   ],
   "source": [
    "from toolz import assoc\n",
    "\n",
    "assoc({'x': 1}, 'x', 2)"
   ]
  },
  {
   "cell_type": "code",
   "execution_count": 2,
   "metadata": {},
   "outputs": [
    {
     "data": {
      "text/plain": [
       "{'x': 1, 'y': 3}"
      ]
     },
     "execution_count": 2,
     "metadata": {},
     "output_type": "execute_result"
    }
   ],
   "source": [
    "assoc({'x': 1}, 'y', 3)"
   ]
  },
  {
   "cell_type": "markdown",
   "metadata": {},
   "source": [
    "## toolz.dicttoolz.dissoc()\n",
    "\n",
    "Return a new dict with the given key(s) removed."
   ]
  },
  {
   "cell_type": "code",
   "execution_count": 3,
   "metadata": {},
   "outputs": [
    {
     "data": {
      "text/plain": [
       "{'x': 1}"
      ]
     },
     "execution_count": 3,
     "metadata": {},
     "output_type": "execute_result"
    }
   ],
   "source": [
    "from toolz import dissoc\n",
    "\n",
    "old = {'x': 1, 'y': 2}\n",
    "new = dissoc(old, 'y')\n",
    "new"
   ]
  },
  {
   "cell_type": "code",
   "execution_count": 4,
   "metadata": {},
   "outputs": [
    {
     "data": {
      "text/plain": [
       "{'x': 1, 'y': 2}"
      ]
     },
     "execution_count": 4,
     "metadata": {},
     "output_type": "execute_result"
    }
   ],
   "source": [
    "old"
   ]
  },
  {
   "cell_type": "markdown",
   "metadata": {},
   "source": [
    "## toolz.dicttoolz.assoc_in()\n",
    "\n",
    "Return a new dict with new, potentially nested, key value pair."
   ]
  },
  {
   "cell_type": "code",
   "execution_count": 5,
   "metadata": {},
   "outputs": [
    {
     "data": {
      "text/plain": [
       "{'name': 'Alice',\n",
       " 'order': {'items': ['Apple', 'Orange'], 'costs': [0.25, 1.0]},\n",
       " 'credit card': '5555-1234-1234-1234'}"
      ]
     },
     "execution_count": 5,
     "metadata": {},
     "output_type": "execute_result"
    }
   ],
   "source": [
    "from toolz import assoc_in\n",
    "\n",
    "purchase = {'name': 'Alice',\n",
    "            'order': {'items': ['Apple', 'Orange'],\n",
    "            'costs': [0.50, 1.25]},\n",
    "            'credit card': '5555-1234-1234-1234'}\n",
    "new_purchase = assoc_in(purchase, ['order', 'costs'], [0.25, 1.00])\n",
    "new_purchase"
   ]
  },
  {
   "cell_type": "code",
   "execution_count": 6,
   "metadata": {},
   "outputs": [
    {
     "data": {
      "text/plain": [
       "{'name': 'Alice',\n",
       " 'order': {'items': ['Apple', 'Orange'], 'costs': [0.5, 1.25]},\n",
       " 'credit card': '5555-1234-1234-1234'}"
      ]
     },
     "execution_count": 6,
     "metadata": {},
     "output_type": "execute_result"
    }
   ],
   "source": [
    "purchase"
   ]
  },
  {
   "cell_type": "markdown",
   "metadata": {},
   "source": [
    "## toolz.dicttoolz.get_in()\n",
    "\n",
    "Returns coll[i0][i1]. . . [iX] where [i0, i1, . . . , iX]==keys."
   ]
  },
  {
   "cell_type": "code",
   "execution_count": 7,
   "metadata": {},
   "outputs": [
    {
     "data": {
      "text/plain": [
       "'Apple'"
      ]
     },
     "execution_count": 7,
     "metadata": {},
     "output_type": "execute_result"
    }
   ],
   "source": [
    "from toolz import get_in\n",
    "\n",
    "transaction = {'name': 'Alice',\n",
    "               'purchase': {'items': ['Apple', 'Orange'],\n",
    "               'costs': [0.50, 1.25]},\n",
    "               'credit card': '5555-1234-1234-1234'}\n",
    "\n",
    "get_in(['purchase', 'items', 0], transaction)"
   ]
  },
  {
   "cell_type": "markdown",
   "metadata": {},
   "source": [
    "## toolz.dicttoolz.keyfilter()\n",
    "\n",
    "Filter items in dictionary by key."
   ]
  },
  {
   "cell_type": "code",
   "execution_count": 8,
   "metadata": {},
   "outputs": [
    {
     "data": {
      "text/plain": [
       "{2: 3, 4: 5}"
      ]
     },
     "execution_count": 8,
     "metadata": {},
     "output_type": "execute_result"
    }
   ],
   "source": [
    "from toolz import keyfilter\n",
    "\n",
    "iseven = lambda x: x % 2 == 0\n",
    "d = {1: 2, 2: 3, 3: 4, 4: 5}\n",
    "keyfilter(iseven, d)"
   ]
  },
  {
   "cell_type": "markdown",
   "metadata": {},
   "source": [
    "## toolz.dicttoolz.keymap()\n",
    "\n",
    "Apply function to keys of dictionary."
   ]
  },
  {
   "cell_type": "code",
   "execution_count": 9,
   "metadata": {},
   "outputs": [
    {
     "data": {
      "text/plain": [
       "{'alice': [20, 15, 30], 'bob': [10, 35]}"
      ]
     },
     "execution_count": 9,
     "metadata": {},
     "output_type": "execute_result"
    }
   ],
   "source": [
    "from toolz import keymap\n",
    "\n",
    "bills = {\"Alice\": [20, 15, 30], \"Bob\": [10, 35]}\n",
    "keymap(str.lower, bills)"
   ]
  },
  {
   "cell_type": "markdown",
   "metadata": {},
   "source": [
    "## toolz.dicttolz.itemfilter()\n",
    "\n",
    "Filter items in dictionary by item."
   ]
  },
  {
   "cell_type": "code",
   "execution_count": 10,
   "metadata": {},
   "outputs": [
    {
     "data": {
      "text/plain": [
       "{2: 3}"
      ]
     },
     "execution_count": 10,
     "metadata": {},
     "output_type": "execute_result"
    }
   ],
   "source": [
    "from toolz import itemfilter\n",
    "\n",
    "def isvalid(item):\n",
    "    k, v = item\n",
    "    return k % 2 == 0 and v < 4\n",
    "\n",
    "d = {1: 2, 2: 3, 3: 4, 4: 5}\n",
    "itemfilter(isvalid, d)"
   ]
  },
  {
   "cell_type": "markdown",
   "metadata": {},
   "source": [
    "## toolz.dicttoolz.itemmap()\n",
    "\n",
    "Apply function to items of dictionary."
   ]
  },
  {
   "cell_type": "code",
   "execution_count": 11,
   "metadata": {},
   "outputs": [
    {
     "data": {
      "text/plain": [
       "{10: 'Alice', 20: 'Bob'}"
      ]
     },
     "execution_count": 11,
     "metadata": {},
     "output_type": "execute_result"
    }
   ],
   "source": [
    "from toolz import itemmap\n",
    "\n",
    "accountids = {\"Alice\": 10, \"Bob\": 20}\n",
    "itemmap(reversed, accountids)"
   ]
  },
  {
   "cell_type": "markdown",
   "metadata": {},
   "source": [
    "## toolz.dicttoolz.merge()\n",
    "\n",
    "Merge a collection of dictionaries."
   ]
  },
  {
   "cell_type": "code",
   "execution_count": 12,
   "metadata": {},
   "outputs": [
    {
     "data": {
      "text/plain": [
       "{1: 'one', 2: 'two'}"
      ]
     },
     "execution_count": 12,
     "metadata": {},
     "output_type": "execute_result"
    }
   ],
   "source": [
    "from toolz import merge\n",
    "\n",
    "merge({1: 'one'}, {2: 'two'})"
   ]
  },
  {
   "cell_type": "markdown",
   "metadata": {},
   "source": [
    "## toolz.dicttoolz.merged_with()\n",
    "\n",
    "Merge dictionaries and apply function to combined values."
   ]
  },
  {
   "cell_type": "code",
   "execution_count": 13,
   "metadata": {},
   "outputs": [
    {
     "data": {
      "text/plain": [
       "{1: 11, 2: 22}"
      ]
     },
     "execution_count": 13,
     "metadata": {},
     "output_type": "execute_result"
    }
   ],
   "source": [
    "from toolz import merge_with\n",
    "\n",
    "merge_with(sum, {1: 1, 2: 2}, {1: 10, 2: 20})"
   ]
  },
  {
   "cell_type": "markdown",
   "metadata": {},
   "source": [
    "## toolz.dicttoolz.update_in()\n",
    "\n",
    "Update value in a (potentially) nested dictionary."
   ]
  },
  {
   "cell_type": "code",
   "execution_count": 14,
   "metadata": {},
   "outputs": [
    {
     "data": {
      "text/plain": [
       "{'name': 'Alice',\n",
       " 'purchase': {'items': ['Apple', 'Orange'], 'costs': 1.75},\n",
       " 'credit card': '5555-1234-1234-1234'}"
      ]
     },
     "execution_count": 14,
     "metadata": {},
     "output_type": "execute_result"
    }
   ],
   "source": [
    "from toolz import update_in\n",
    "\n",
    "transaction = {'name': 'Alice',\n",
    "               'purchase': {'items': ['Apple', 'Orange'],\n",
    "               'costs': [0.50, 1.25]},\n",
    "               'credit card': '5555-1234-1234-1234'}\n",
    "new_transaction = update_in(transaction, ['purchase', 'costs'], sum)\n",
    "new_transaction"
   ]
  },
  {
   "cell_type": "code",
   "execution_count": 15,
   "metadata": {},
   "outputs": [
    {
     "data": {
      "text/plain": [
       "{'name': 'Alice',\n",
       " 'purchase': {'items': ['Apple', 'Orange'], 'costs': [0.5, 1.25]},\n",
       " 'credit card': '5555-1234-1234-1234'}"
      ]
     },
     "execution_count": 15,
     "metadata": {},
     "output_type": "execute_result"
    }
   ],
   "source": [
    "transaction"
   ]
  },
  {
   "cell_type": "markdown",
   "metadata": {},
   "source": [
    "## toolz.dicttoolz.valfilter()\n",
    "\n",
    "Filter items in dictionary by value."
   ]
  },
  {
   "cell_type": "code",
   "execution_count": 16,
   "metadata": {},
   "outputs": [
    {
     "data": {
      "text/plain": [
       "{1: 2, 3: 4}"
      ]
     },
     "execution_count": 16,
     "metadata": {},
     "output_type": "execute_result"
    }
   ],
   "source": [
    "from toolz import valfilter\n",
    "\n",
    "iseven = lambda x: x % 2 == 0\n",
    "d = {1: 2, 2: 3, 3: 4, 4: 5}\n",
    "valfilter(iseven, d)"
   ]
  },
  {
   "cell_type": "markdown",
   "metadata": {},
   "source": [
    "## toolz.dicttoolz.valmap()\n",
    "\n",
    "Apply function to values of dictionary."
   ]
  },
  {
   "cell_type": "code",
   "execution_count": 17,
   "metadata": {},
   "outputs": [
    {
     "data": {
      "text/plain": [
       "{'Alice': 65, 'Bob': 45}"
      ]
     },
     "execution_count": 17,
     "metadata": {},
     "output_type": "execute_result"
    }
   ],
   "source": [
    "from toolz import valmap\n",
    "\n",
    "bills = {\"Alice\": [20, 15, 30], \"Bob\": [10, 35]}\n",
    "valmap(sum, bills)"
   ]
  },
  {
   "cell_type": "markdown",
   "metadata": {},
   "source": [
    "## toolz.dicttoolz related idioms\n",
    "\n",
    "Toolz functions can be combined to make functions that, while common, aren’t a part of toolz’s standard library. This\n",
    "section presents a few of these recipes."
   ]
  },
  {
   "cell_type": "markdown",
   "metadata": {},
   "source": [
    "### pick()\n",
    "\n",
    "Return a subset of the provided dictionary with keys contained in the whitelist."
   ]
  },
  {
   "cell_type": "code",
   "execution_count": 18,
   "metadata": {},
   "outputs": [
    {
     "data": {
      "text/plain": [
       "{'a': 1, 'b': 2}"
      ]
     },
     "execution_count": 18,
     "metadata": {},
     "output_type": "execute_result"
    }
   ],
   "source": [
    "from toolz import keyfilter\n",
    "\n",
    "def pick(whitelist, d):\n",
    "    return keyfilter(lambda k: k in whitelist, d)\n",
    "\n",
    "alphabet = {'a': 1, 'b': 2, 'c': 3, 'd': 4}\n",
    "pick(['a', 'b'], alphabet)"
   ]
  },
  {
   "cell_type": "markdown",
   "metadata": {},
   "source": [
    "### omit()\n",
    "\n",
    "Return a subset of the provided dictionary with keys not contained in the blacklist."
   ]
  },
  {
   "cell_type": "code",
   "execution_count": 19,
   "metadata": {},
   "outputs": [],
   "source": [
    "from toolz import keyfilter\n",
    "\n",
    "def omit(blacklist, d):\n",
    "    return keyfilter(lambda k: k not in blacklist, d)"
   ]
  },
  {
   "cell_type": "code",
   "execution_count": 20,
   "metadata": {},
   "outputs": [
    {
     "data": {
      "text/plain": [
       "{'c': 3, 'd': 4}"
      ]
     },
     "execution_count": 20,
     "metadata": {},
     "output_type": "execute_result"
    }
   ],
   "source": [
    "alphabet = {'a': 1, 'b': 2, 'c': 3, 'd': 4}\n",
    "omit(['a', 'b'], alphabet)"
   ]
  },
  {
   "cell_type": "markdown",
   "metadata": {},
   "source": [
    "### keyjoin()\n",
    "\n",
    "Inner join two sequences of dictionaries on specified keys, merging matches with right value precedence."
   ]
  },
  {
   "cell_type": "code",
   "execution_count": 21,
   "metadata": {},
   "outputs": [],
   "source": [
    "from itertools import starmap\n",
    "from toolz import join, merge\n",
    "\n",
    "def keyjoin(leftkey, leftseq, rightkey, rightseq):\n",
    "    return starmap(merge, join(leftkey, leftseq, rightkey, rightseq))"
   ]
  },
  {
   "cell_type": "code",
   "execution_count": 22,
   "metadata": {},
   "outputs": [
    {
     "data": {
      "text/plain": [
       "[{'id': 1,\n",
       "  'name': 'Karan',\n",
       "  'location': 'San Francisco',\n",
       "  'person_id': 1,\n",
       "  'hobby': 'Tennis'},\n",
       " {'id': 1,\n",
       "  'name': 'Karan',\n",
       "  'location': 'San Francisco',\n",
       "  'person_id': 1,\n",
       "  'hobby': 'Acting'},\n",
       " {'id': 2,\n",
       "  'name': 'Matthew',\n",
       "  'location': 'Oakland',\n",
       "  'person_id': 2,\n",
       "  'hobby': 'Biking'}]"
      ]
     },
     "execution_count": 22,
     "metadata": {},
     "output_type": "execute_result"
    }
   ],
   "source": [
    "people = [{'id': 0, 'name': 'Anonymous Guy', 'location': 'Unknown'},\n",
    "          {'id': 1, 'name': 'Karan', 'location': 'San Francisco'},\n",
    "          {'id': 2, 'name': 'Matthew', 'location': 'Oakland'}]\n",
    "hobbies = [{'person_id': 1, 'hobby': 'Tennis'},\n",
    "           {'person_id': 1, 'hobby': 'Acting'},\n",
    "           {'person_id': 2, 'hobby': 'Biking'}]\n",
    "list(keyjoin('id', people, 'person_id', hobbies))"
   ]
  },
  {
   "cell_type": "markdown",
   "metadata": {},
   "source": [
    "## toolz.itertoolz"
   ]
  },
  {
   "cell_type": "markdown",
   "metadata": {},
   "source": [
    "### toolz.itertoolz.accumulate()\n",
    "\n",
    "Repeatedly apply binary function to a sequence, accumulating results."
   ]
  },
  {
   "cell_type": "code",
   "execution_count": 23,
   "metadata": {},
   "outputs": [
    {
     "data": {
      "text/plain": [
       "<generator object accumulate at 0x7f2484855ba0>"
      ]
     },
     "execution_count": 23,
     "metadata": {},
     "output_type": "execute_result"
    }
   ],
   "source": [
    "from toolz import accumulate\n",
    "from operator import add, mul\n",
    "\n",
    "generator = accumulate(add, (1, 2, 3, 4, 5))\n",
    "generator"
   ]
  },
  {
   "cell_type": "code",
   "execution_count": 24,
   "metadata": {},
   "outputs": [
    {
     "data": {
      "text/plain": [
       "(1, 3, 6, 10, 15)"
      ]
     },
     "execution_count": 24,
     "metadata": {},
     "output_type": "execute_result"
    }
   ],
   "source": [
    "tuple(generator)"
   ]
  },
  {
   "cell_type": "markdown",
   "metadata": {},
   "source": [
    "### toolz.itertoolz.concat()\n",
    "\n",
    "Concatenate zero or more iterables, any of which may be infinite."
   ]
  },
  {
   "cell_type": "code",
   "execution_count": 25,
   "metadata": {},
   "outputs": [
    {
     "data": {
      "text/plain": [
       "<itertools.chain at 0x7f2484834048>"
      ]
     },
     "execution_count": 25,
     "metadata": {},
     "output_type": "execute_result"
    }
   ],
   "source": [
    "from toolz import concat\n",
    "\n",
    "chain = concat([[], [1], [2, 3]])\n",
    "chain"
   ]
  },
  {
   "cell_type": "code",
   "execution_count": 26,
   "metadata": {},
   "outputs": [
    {
     "data": {
      "text/plain": [
       "(1, 2, 3)"
      ]
     },
     "execution_count": 26,
     "metadata": {},
     "output_type": "execute_result"
    }
   ],
   "source": [
    "tuple(chain)"
   ]
  },
  {
   "cell_type": "markdown",
   "metadata": {},
   "source": [
    "### toolz.itertoolz.concatv()\n",
    "\n",
    "Variadic version of concat."
   ]
  },
  {
   "cell_type": "code",
   "execution_count": 27,
   "metadata": {},
   "outputs": [
    {
     "data": {
      "text/plain": [
       "<itertools.chain at 0x7f24848340b8>"
      ]
     },
     "execution_count": 27,
     "metadata": {},
     "output_type": "execute_result"
    }
   ],
   "source": [
    "from toolz import concatv\n",
    "\n",
    "chain = concatv([], [\"a\"], [\"b\", \"c\"])\n",
    "chain"
   ]
  },
  {
   "cell_type": "code",
   "execution_count": 28,
   "metadata": {},
   "outputs": [
    {
     "data": {
      "text/plain": [
       "('a', 'b', 'c')"
      ]
     },
     "execution_count": 28,
     "metadata": {},
     "output_type": "execute_result"
    }
   ],
   "source": [
    "tuple(chain)"
   ]
  },
  {
   "cell_type": "markdown",
   "metadata": {},
   "source": [
    "### toolz.itertoolz.cons()\n",
    "\n",
    "Add el to beginning of (possibly infinite) sequence seq."
   ]
  },
  {
   "cell_type": "code",
   "execution_count": 29,
   "metadata": {},
   "outputs": [
    {
     "data": {
      "text/plain": [
       "<itertools.chain at 0x7f2484834080>"
      ]
     },
     "execution_count": 29,
     "metadata": {},
     "output_type": "execute_result"
    }
   ],
   "source": [
    "from toolz import cons\n",
    "\n",
    "chain = cons(1, (2, 3))\n",
    "chain"
   ]
  },
  {
   "cell_type": "code",
   "execution_count": 30,
   "metadata": {},
   "outputs": [
    {
     "data": {
      "text/plain": [
       "(1, 2, 3)"
      ]
     },
     "execution_count": 30,
     "metadata": {},
     "output_type": "execute_result"
    }
   ],
   "source": [
    "tuple(chain)"
   ]
  },
  {
   "cell_type": "markdown",
   "metadata": {},
   "source": [
    "## toolz.itertoolz.count()\n",
    "\n",
    "Count the number of items in seq."
   ]
  },
  {
   "cell_type": "code",
   "execution_count": 31,
   "metadata": {},
   "outputs": [
    {
     "data": {
      "text/plain": [
       "3"
      ]
     },
     "execution_count": 31,
     "metadata": {},
     "output_type": "execute_result"
    }
   ],
   "source": [
    "from toolz import count\n",
    "\n",
    "count((0, 1, 2))"
   ]
  },
  {
   "cell_type": "markdown",
   "metadata": {},
   "source": [
    "### toolz.itertoolz.diff()\n",
    "\n",
    "Return those items that differ between sequences."
   ]
  },
  {
   "cell_type": "code",
   "execution_count": 32,
   "metadata": {},
   "outputs": [
    {
     "data": {
      "text/plain": [
       "<generator object diff at 0x7f2484855c50>"
      ]
     },
     "execution_count": 32,
     "metadata": {},
     "output_type": "execute_result"
    }
   ],
   "source": [
    "from toolz import diff\n",
    "\n",
    "generator = diff([1, 2, 3], [1, 2, 10, 100])\n",
    "generator"
   ]
  },
  {
   "cell_type": "code",
   "execution_count": 33,
   "metadata": {},
   "outputs": [
    {
     "data": {
      "text/plain": [
       "((3, 10),)"
      ]
     },
     "execution_count": 33,
     "metadata": {},
     "output_type": "execute_result"
    }
   ],
   "source": [
    "tuple(generator)"
   ]
  },
  {
   "cell_type": "markdown",
   "metadata": {},
   "source": [
    "### toolz.itertoolz.drop()\n",
    "\n",
    "The sequence following the first n elements."
   ]
  },
  {
   "cell_type": "code",
   "execution_count": 34,
   "metadata": {},
   "outputs": [
    {
     "data": {
      "text/plain": [
       "<itertools.islice at 0x7f24848402c8>"
      ]
     },
     "execution_count": 34,
     "metadata": {},
     "output_type": "execute_result"
    }
   ],
   "source": [
    "from toolz import drop\n",
    "\n",
    "islice = drop(2, (10, 20, 30, 40, 50))\n",
    "islice"
   ]
  },
  {
   "cell_type": "code",
   "execution_count": 35,
   "metadata": {},
   "outputs": [
    {
     "data": {
      "text/plain": [
       "(30, 40, 50)"
      ]
     },
     "execution_count": 35,
     "metadata": {},
     "output_type": "execute_result"
    }
   ],
   "source": [
    "tuple(islice)"
   ]
  },
  {
   "cell_type": "markdown",
   "metadata": {},
   "source": [
    "### toolz.itertoolz.first()\n",
    "\n",
    "The first element in a sequence."
   ]
  },
  {
   "cell_type": "code",
   "execution_count": 36,
   "metadata": {},
   "outputs": [
    {
     "data": {
      "text/plain": [
       "1"
      ]
     },
     "execution_count": 36,
     "metadata": {},
     "output_type": "execute_result"
    }
   ],
   "source": [
    "from toolz import first\n",
    "\n",
    "first((1, 2, 3))"
   ]
  },
  {
   "cell_type": "markdown",
   "metadata": {},
   "source": [
    "### toolz.itertoolz.frequencies()\n",
    "\n",
    "Find number of occurrences of each value in seq."
   ]
  },
  {
   "cell_type": "code",
   "execution_count": 37,
   "metadata": {},
   "outputs": [
    {
     "data": {
      "text/plain": [
       "{'cat': 3, 'ox': 1, 'pig': 2}"
      ]
     },
     "execution_count": 37,
     "metadata": {},
     "output_type": "execute_result"
    }
   ],
   "source": [
    "from toolz import frequencies\n",
    "\n",
    "frequencies(['cat', 'cat', 'ox', 'pig', 'pig', 'cat'])"
   ]
  },
  {
   "cell_type": "markdown",
   "metadata": {},
   "source": [
    "### toolz.itertoolz.get()\n",
    "\n",
    "Get element in a sequence or dict."
   ]
  },
  {
   "cell_type": "code",
   "execution_count": 38,
   "metadata": {},
   "outputs": [
    {
     "data": {
      "text/plain": [
       "1"
      ]
     },
     "execution_count": 38,
     "metadata": {},
     "output_type": "execute_result"
    }
   ],
   "source": [
    "from toolz import get\n",
    "\n",
    "get(0, (1, 2, 3))"
   ]
  },
  {
   "cell_type": "markdown",
   "metadata": {},
   "source": [
    "### toolz.itertoolz.groupby()\n",
    "\n",
    "Group a collection by a key function."
   ]
  },
  {
   "cell_type": "code",
   "execution_count": 39,
   "metadata": {},
   "outputs": [
    {
     "data": {
      "text/plain": [
       "{5: ['Alice', 'Edith', 'Frank'], 3: ['Bob', 'Dan'], 7: ['Charlie']}"
      ]
     },
     "execution_count": 39,
     "metadata": {},
     "output_type": "execute_result"
    }
   ],
   "source": [
    "from toolz import groupby\n",
    "\n",
    "names = ['Alice', 'Bob', 'Charlie', 'Dan', 'Edith', 'Frank']\n",
    "groupby(len, names)"
   ]
  },
  {
   "cell_type": "markdown",
   "metadata": {},
   "source": [
    "### toolz.itertoolz.interleave()\n",
    "\n",
    "Interleave a sequence of sequences."
   ]
  },
  {
   "cell_type": "code",
   "execution_count": 40,
   "metadata": {},
   "outputs": [
    {
     "data": {
      "text/plain": [
       "<generator object interleave at 0x7f2484855eb8>"
      ]
     },
     "execution_count": 40,
     "metadata": {},
     "output_type": "execute_result"
    }
   ],
   "source": [
    "from toolz import interleave\n",
    "\n",
    "generator = interleave(((1, 2), (3, 4)))\n",
    "generator"
   ]
  },
  {
   "cell_type": "code",
   "execution_count": 41,
   "metadata": {},
   "outputs": [
    {
     "data": {
      "text/plain": [
       "(1, 3, 2, 4)"
      ]
     },
     "execution_count": 41,
     "metadata": {},
     "output_type": "execute_result"
    }
   ],
   "source": [
    "tuple(generator)"
   ]
  },
  {
   "cell_type": "markdown",
   "metadata": {},
   "source": [
    "### toolz.itertoolz.interpose()\n",
    "\n",
    "Introduce element between each pair of elements in seq."
   ]
  },
  {
   "cell_type": "code",
   "execution_count": 42,
   "metadata": {},
   "outputs": [
    {
     "data": {
      "text/plain": [
       "<itertools.chain at 0x7f2484834358>"
      ]
     },
     "execution_count": 42,
     "metadata": {},
     "output_type": "execute_result"
    }
   ],
   "source": [
    "from toolz import interpose\n",
    "\n",
    "chain = interpose(\"a\", (1, 2, 3))\n",
    "chain"
   ]
  },
  {
   "cell_type": "code",
   "execution_count": 43,
   "metadata": {},
   "outputs": [
    {
     "data": {
      "text/plain": [
       "(1, 'a', 2, 'a', 3)"
      ]
     },
     "execution_count": 43,
     "metadata": {},
     "output_type": "execute_result"
    }
   ],
   "source": [
    "tuple(chain)"
   ]
  },
  {
   "cell_type": "markdown",
   "metadata": {},
   "source": [
    "### toolz.itertoolz.isdistict()\n",
    "\n",
    "All values in sequence are distinct."
   ]
  },
  {
   "cell_type": "code",
   "execution_count": 44,
   "metadata": {},
   "outputs": [
    {
     "data": {
      "text/plain": [
       "True"
      ]
     },
     "execution_count": 44,
     "metadata": {},
     "output_type": "execute_result"
    }
   ],
   "source": [
    "from toolz import isdistinct\n",
    "\n",
    "isdistinct((1, 2, 3))"
   ]
  },
  {
   "cell_type": "code",
   "execution_count": 45,
   "metadata": {},
   "outputs": [
    {
     "data": {
      "text/plain": [
       "False"
      ]
     },
     "execution_count": 45,
     "metadata": {},
     "output_type": "execute_result"
    }
   ],
   "source": [
    "isdistinct((1, 2, 2))"
   ]
  },
  {
   "cell_type": "markdown",
   "metadata": {},
   "source": [
    "### toolz.itertoolz.isiterable()\n",
    "\n",
    "Is x iterable?"
   ]
  },
  {
   "cell_type": "code",
   "execution_count": 46,
   "metadata": {},
   "outputs": [
    {
     "data": {
      "text/plain": [
       "True"
      ]
     },
     "execution_count": 46,
     "metadata": {},
     "output_type": "execute_result"
    }
   ],
   "source": [
    "from toolz import isiterable\n",
    "\n",
    "isiterable((1, 2, 3))"
   ]
  },
  {
   "cell_type": "code",
   "execution_count": 47,
   "metadata": {},
   "outputs": [
    {
     "data": {
      "text/plain": [
       "False"
      ]
     },
     "execution_count": 47,
     "metadata": {},
     "output_type": "execute_result"
    }
   ],
   "source": [
    "isiterable(42)"
   ]
  },
  {
   "cell_type": "markdown",
   "metadata": {},
   "source": [
    "### toolz.itertoolz.iterate()\n",
    "\n",
    "Repeatedly apply a function func onto an original input."
   ]
  },
  {
   "cell_type": "code",
   "execution_count": 48,
   "metadata": {},
   "outputs": [
    {
     "data": {
      "text/plain": [
       "<generator object iterate at 0x7f2484841048>"
      ]
     },
     "execution_count": 48,
     "metadata": {},
     "output_type": "execute_result"
    }
   ],
   "source": [
    "from toolz import iterate\n",
    "\n",
    "double = lambda x: x * 2\n",
    "powers_of_two = iterate(double, 1)\n",
    "powers_of_two"
   ]
  },
  {
   "cell_type": "code",
   "execution_count": 49,
   "metadata": {},
   "outputs": [
    {
     "data": {
      "text/plain": [
       "1"
      ]
     },
     "execution_count": 49,
     "metadata": {},
     "output_type": "execute_result"
    }
   ],
   "source": [
    "next(powers_of_two)"
   ]
  },
  {
   "cell_type": "code",
   "execution_count": 50,
   "metadata": {},
   "outputs": [
    {
     "data": {
      "text/plain": [
       "4"
      ]
     },
     "execution_count": 50,
     "metadata": {},
     "output_type": "execute_result"
    }
   ],
   "source": [
    "next(powers_of_two)\n",
    "next(powers_of_two)"
   ]
  },
  {
   "cell_type": "markdown",
   "metadata": {},
   "source": [
    "### toolz.itertoolz.join()\n",
    "\n",
    "Join two sequences on common attributes."
   ]
  },
  {
   "cell_type": "code",
   "execution_count": 51,
   "metadata": {},
   "outputs": [
    {
     "name": "stdout",
     "output_type": "stream",
     "text": [
      "In what cities do people have friends?\n",
      "\n",
      "Alice Berlin\n",
      "Alice Paris\n",
      "Alice Shanghai\n",
      "Edith Chicago\n",
      "Edith NYC\n",
      "Zhao Chicago\n",
      "Zhao NYC\n",
      "Zhao Berlin\n",
      "Zhao Paris\n"
     ]
    }
   ],
   "source": [
    "from toolz import join, first, second, unique\n",
    "\n",
    "friends = [('Alice', 'Edith'),\n",
    "           ('Alice', 'Zhao'),\n",
    "           ('Edith', 'Alice'),\n",
    "           ('Zhao', 'Alice'),\n",
    "           ('Zhao', 'Edith')]\n",
    "\n",
    "cities = [('Alice', 'NYC'),\n",
    "          ('Alice', 'Chicago'),\n",
    "          ('Dan', 'Syndey'),\n",
    "          ('Edith', 'Paris'),\n",
    "          ('Edith', 'Berlin'),\n",
    "          ('Zhao', 'Shanghai')]\n",
    "\n",
    "result = join(second, friends, first, cities)\n",
    "\n",
    "print(\"In what cities do people have friends?\\n\")\n",
    "for ((a, b), (c, d)) in sorted(unique(result)):\n",
    "    print(a, d)"
   ]
  },
  {
   "cell_type": "markdown",
   "metadata": {},
   "source": [
    "### toolz.itertoolz.last()\n",
    "\n",
    "The last element in a sequence."
   ]
  },
  {
   "cell_type": "code",
   "execution_count": 52,
   "metadata": {},
   "outputs": [
    {
     "data": {
      "text/plain": [
       "4"
      ]
     },
     "execution_count": 52,
     "metadata": {},
     "output_type": "execute_result"
    }
   ],
   "source": [
    "from toolz import last\n",
    "\n",
    "last((1, 2, 3, 4))"
   ]
  },
  {
   "cell_type": "markdown",
   "metadata": {},
   "source": [
    "### toolz.itertoolz.mapcat()\n",
    "\n",
    "Apply func to each sequence in seqs, concatenating results."
   ]
  },
  {
   "cell_type": "code",
   "execution_count": 53,
   "metadata": {},
   "outputs": [
    {
     "data": {
      "text/plain": [
       "<itertools.chain at 0x7f248484b748>"
      ]
     },
     "execution_count": 53,
     "metadata": {},
     "output_type": "execute_result"
    }
   ],
   "source": [
    "from toolz import mapcat\n",
    "\n",
    "chain = mapcat(lambda s: (c.upper() for c in s), [(\"a\", \"b\"), (\"c\", \"d\", \"e\")])\n",
    "chain"
   ]
  },
  {
   "cell_type": "code",
   "execution_count": 54,
   "metadata": {},
   "outputs": [
    {
     "data": {
      "text/plain": [
       "('A', 'B', 'C', 'D', 'E')"
      ]
     },
     "execution_count": 54,
     "metadata": {},
     "output_type": "execute_result"
    }
   ],
   "source": [
    "tuple(chain)"
   ]
  },
  {
   "cell_type": "markdown",
   "metadata": {},
   "source": [
    "### toolz.itertoolz.merge_sorted()\n",
    "\n",
    "Merge and sort a collection of sorted collections."
   ]
  },
  {
   "cell_type": "code",
   "execution_count": 55,
   "metadata": {},
   "outputs": [
    {
     "data": {
      "text/plain": [
       "<generator object _merge_sorted_binary at 0x7f2484841308>"
      ]
     },
     "execution_count": 55,
     "metadata": {},
     "output_type": "execute_result"
    }
   ],
   "source": [
    "from toolz import merge_sorted\n",
    "\n",
    "generator = merge_sorted((1, 3, 5), (2, 4, 6))\n",
    "generator"
   ]
  },
  {
   "cell_type": "code",
   "execution_count": 56,
   "metadata": {},
   "outputs": [
    {
     "data": {
      "text/plain": [
       "(1, 2, 3, 4, 5, 6)"
      ]
     },
     "execution_count": 56,
     "metadata": {},
     "output_type": "execute_result"
    }
   ],
   "source": [
    "tuple(generator)"
   ]
  },
  {
   "cell_type": "markdown",
   "metadata": {},
   "source": [
    "### toolz.itertoolz.nth()\n",
    "\n",
    "The nth element in a sequence."
   ]
  },
  {
   "cell_type": "code",
   "execution_count": 57,
   "metadata": {},
   "outputs": [
    {
     "data": {
      "text/plain": [
       "2"
      ]
     },
     "execution_count": 57,
     "metadata": {},
     "output_type": "execute_result"
    }
   ],
   "source": [
    "from toolz import nth\n",
    "\n",
    "nth(1, (1, 2, 3))"
   ]
  },
  {
   "cell_type": "markdown",
   "metadata": {},
   "source": [
    "### toolz.itertoolz.partition()\n",
    "\n",
    "Partition sequence into tuples of length n"
   ]
  },
  {
   "cell_type": "code",
   "execution_count": 58,
   "metadata": {},
   "outputs": [
    {
     "data": {
      "text/plain": [
       "<zip at 0x7f2484847288>"
      ]
     },
     "execution_count": 58,
     "metadata": {},
     "output_type": "execute_result"
    }
   ],
   "source": [
    "from toolz import partition\n",
    "\n",
    "_zip = partition(2, (1, 2, 3, 4))\n",
    "_zip"
   ]
  },
  {
   "cell_type": "code",
   "execution_count": 59,
   "metadata": {},
   "outputs": [
    {
     "data": {
      "text/plain": [
       "((1, 2), (3, 4))"
      ]
     },
     "execution_count": 59,
     "metadata": {},
     "output_type": "execute_result"
    }
   ],
   "source": [
    "tuple(_zip)"
   ]
  },
  {
   "cell_type": "markdown",
   "metadata": {},
   "source": [
    "### toolz.itertoolz.partition_all()\n",
    "\n",
    "Partition all elements of sequence into tuples of length at most n."
   ]
  },
  {
   "cell_type": "code",
   "execution_count": 60,
   "metadata": {},
   "outputs": [
    {
     "data": {
      "text/plain": [
       "<generator object partition_all at 0x7f2484841258>"
      ]
     },
     "execution_count": 60,
     "metadata": {},
     "output_type": "execute_result"
    }
   ],
   "source": [
    "from toolz import partition_all\n",
    "\n",
    "generator = partition_all(2, [1, 2, 3, 4, 5])\n",
    "generator"
   ]
  },
  {
   "cell_type": "code",
   "execution_count": 61,
   "metadata": {},
   "outputs": [
    {
     "data": {
      "text/plain": [
       "((1, 2), (3, 4), (5,))"
      ]
     },
     "execution_count": 61,
     "metadata": {},
     "output_type": "execute_result"
    }
   ],
   "source": [
    "tuple(generator)"
   ]
  },
  {
   "cell_type": "markdown",
   "metadata": {},
   "source": [
    "## toolz.itertoolz related idioms\n",
    "\n",
    "Toolz functions can be combined to make functions that, while common, aren’t a part of toolz’s standard library. This\n",
    "section presents a few of these recipes."
   ]
  },
  {
   "cell_type": "markdown",
   "metadata": {},
   "source": [
    "### aridentical()\n",
    "\n",
    "Determine if sequences are identical element-wise. This lazily evaluates the sequences and stops as soon as the\n",
    "result is determined."
   ]
  },
  {
   "cell_type": "code",
   "execution_count": 62,
   "metadata": {},
   "outputs": [],
   "source": [
    "from toolz import diff\n",
    "\n",
    "def areidentical(*seqs):\n",
    "    return not any(diff(*seqs, default=object()))"
   ]
  },
  {
   "cell_type": "code",
   "execution_count": 63,
   "metadata": {},
   "outputs": [
    {
     "data": {
      "text/plain": [
       "True"
      ]
     },
     "execution_count": 63,
     "metadata": {},
     "output_type": "execute_result"
    }
   ],
   "source": [
    "areidentical([1, 2, 3], (1, 2, 3))"
   ]
  },
  {
   "cell_type": "code",
   "execution_count": 64,
   "metadata": {},
   "outputs": [
    {
     "data": {
      "text/plain": [
       "False"
      ]
     },
     "execution_count": 64,
     "metadata": {},
     "output_type": "execute_result"
    }
   ],
   "source": [
    "areidentical([1, 2, 3], [1, 2, 4])"
   ]
  },
  {
   "cell_type": "markdown",
   "metadata": {},
   "source": [
    "### compact()\n",
    "\n",
    "Filter an iterable on “truthy” values."
   ]
  },
  {
   "cell_type": "code",
   "execution_count": 65,
   "metadata": {},
   "outputs": [],
   "source": [
    "from toolz import filter\n",
    "\n",
    "def compact(iter):\n",
    "    return filter(None, iter)"
   ]
  },
  {
   "cell_type": "code",
   "execution_count": 66,
   "metadata": {},
   "outputs": [
    {
     "data": {
      "text/plain": [
       "[1, 2, 3]"
      ]
     },
     "execution_count": 66,
     "metadata": {},
     "output_type": "execute_result"
    }
   ],
   "source": [
    "results = [0, 1, 2, None, 3, False]\n",
    "list(compact(results))"
   ]
  },
  {
   "cell_type": "markdown",
   "metadata": {},
   "source": [
    "## toolz.functoolz.complement()\n",
    "\n",
    "Convert a predicate function to its logical complement."
   ]
  },
  {
   "cell_type": "code",
   "execution_count": 67,
   "metadata": {},
   "outputs": [
    {
     "data": {
      "text/plain": [
       "<toolz.functoolz.Compose at 0x7f248484bf28>"
      ]
     },
     "execution_count": 67,
     "metadata": {},
     "output_type": "execute_result"
    }
   ],
   "source": [
    "from toolz import complement\n",
    "\n",
    "def iseven(n): return n % 2 == 0\n",
    "isodd = complement(iseven)\n",
    "isodd"
   ]
  },
  {
   "cell_type": "code",
   "execution_count": 68,
   "metadata": {},
   "outputs": [
    {
     "data": {
      "text/plain": [
       "False"
      ]
     },
     "execution_count": 68,
     "metadata": {},
     "output_type": "execute_result"
    }
   ],
   "source": [
    "isodd(2)"
   ]
  },
  {
   "cell_type": "code",
   "execution_count": 69,
   "metadata": {},
   "outputs": [
    {
     "data": {
      "text/plain": [
       "True"
      ]
     },
     "execution_count": 69,
     "metadata": {},
     "output_type": "execute_result"
    }
   ],
   "source": [
    "iseven(2)"
   ]
  },
  {
   "cell_type": "markdown",
   "metadata": {},
   "source": [
    "## toolz.functoolz.compose()\n",
    "\n",
    "Compose functions to operate in series."
   ]
  },
  {
   "cell_type": "code",
   "execution_count": 70,
   "metadata": {},
   "outputs": [
    {
     "data": {
      "text/plain": [
       "<toolz.functoolz.Compose at 0x7f248484bdd8>"
      ]
     },
     "execution_count": 70,
     "metadata": {},
     "output_type": "execute_result"
    }
   ],
   "source": [
    "from toolz import compose\n",
    "\n",
    "inc = lambda i: i + 1\n",
    "function = compose(str, inc)\n",
    "function"
   ]
  },
  {
   "cell_type": "code",
   "execution_count": 71,
   "metadata": {},
   "outputs": [
    {
     "data": {
      "text/plain": [
       "'4'"
      ]
     },
     "execution_count": 71,
     "metadata": {},
     "output_type": "execute_result"
    }
   ],
   "source": [
    "function(3)"
   ]
  },
  {
   "cell_type": "markdown",
   "metadata": {},
   "source": [
    "## toolz.functoolz.curry()\n",
    "\n",
    "Curry a callable function."
   ]
  },
  {
   "cell_type": "code",
   "execution_count": 72,
   "metadata": {},
   "outputs": [
    {
     "data": {
      "text/plain": [
       "<function mul at 0x7f248482ec80>"
      ]
     },
     "execution_count": 72,
     "metadata": {},
     "output_type": "execute_result"
    }
   ],
   "source": [
    "from toolz import curry\n",
    "\n",
    "def mul(x, y):\n",
    "    return x * y\n",
    "\n",
    "mul = curry(mul)\n",
    "mul"
   ]
  },
  {
   "cell_type": "code",
   "execution_count": 73,
   "metadata": {},
   "outputs": [
    {
     "data": {
      "text/plain": [
       "<function mul at 0x7f248482ec80>"
      ]
     },
     "execution_count": 73,
     "metadata": {},
     "output_type": "execute_result"
    }
   ],
   "source": [
    "double = mul(2)\n",
    "double"
   ]
  },
  {
   "cell_type": "code",
   "execution_count": 74,
   "metadata": {},
   "outputs": [
    {
     "data": {
      "text/plain": [
       "20"
      ]
     },
     "execution_count": 74,
     "metadata": {},
     "output_type": "execute_result"
    }
   ],
   "source": [
    "double(10)"
   ]
  },
  {
   "cell_type": "markdown",
   "metadata": {},
   "source": [
    "## toolz.functoolz.do()\n",
    "\n",
    "Runs func on x, returns x."
   ]
  },
  {
   "cell_type": "code",
   "execution_count": 75,
   "metadata": {},
   "outputs": [
    {
     "data": {
      "text/plain": [
       "<toolz.functoolz.Compose at 0x7f24848495c0>"
      ]
     },
     "execution_count": 75,
     "metadata": {},
     "output_type": "execute_result"
    }
   ],
   "source": [
    "from toolz import compose\n",
    "from toolz.curried import do\n",
    "\n",
    "log = []\n",
    "inc = lambda x: x + 1\n",
    "inc = compose(inc, do(log.append))\n",
    "inc"
   ]
  },
  {
   "cell_type": "code",
   "execution_count": 76,
   "metadata": {},
   "outputs": [
    {
     "data": {
      "text/plain": [
       "2"
      ]
     },
     "execution_count": 76,
     "metadata": {},
     "output_type": "execute_result"
    }
   ],
   "source": [
    "inc(1)"
   ]
  },
  {
   "cell_type": "code",
   "execution_count": 77,
   "metadata": {},
   "outputs": [
    {
     "data": {
      "text/plain": [
       "12"
      ]
     },
     "execution_count": 77,
     "metadata": {},
     "output_type": "execute_result"
    }
   ],
   "source": [
    "inc(11)"
   ]
  },
  {
   "cell_type": "code",
   "execution_count": 78,
   "metadata": {},
   "outputs": [
    {
     "data": {
      "text/plain": [
       "[1, 11]"
      ]
     },
     "execution_count": 78,
     "metadata": {},
     "output_type": "execute_result"
    }
   ],
   "source": [
    "log"
   ]
  },
  {
   "cell_type": "markdown",
   "metadata": {},
   "source": [
    "## toolz.functoolz.except()\n",
    "\n",
    "A wrapper around a function to catch exceptions and dispatch to a handler."
   ]
  },
  {
   "cell_type": "code",
   "execution_count": 79,
   "metadata": {},
   "outputs": [
    {
     "data": {
      "text/plain": [
       "<toolz.functoolz.excepts at 0x7f24847f2c50>"
      ]
     },
     "execution_count": 79,
     "metadata": {},
     "output_type": "execute_result"
    }
   ],
   "source": [
    "from toolz import excepts\n",
    "\n",
    "excepting = excepts(\n",
    "    ValueError,\n",
    "    lambda a: [1, 2].index(a),\n",
    "    lambda _: -1,\n",
    ")\n",
    "excepting"
   ]
  },
  {
   "cell_type": "code",
   "execution_count": 80,
   "metadata": {},
   "outputs": [
    {
     "data": {
      "text/plain": [
       "0"
      ]
     },
     "execution_count": 80,
     "metadata": {},
     "output_type": "execute_result"
    }
   ],
   "source": [
    "excepting(1)"
   ]
  },
  {
   "cell_type": "code",
   "execution_count": 81,
   "metadata": {},
   "outputs": [
    {
     "data": {
      "text/plain": [
       "-1"
      ]
     },
     "execution_count": 81,
     "metadata": {},
     "output_type": "execute_result"
    }
   ],
   "source": [
    "excepting(3)"
   ]
  },
  {
   "cell_type": "markdown",
   "metadata": {},
   "source": [
    "## toolz.functoolz.flip()\n",
    "\n",
    "Call the function call with the arguments flipped."
   ]
  },
  {
   "cell_type": "code",
   "execution_count": 82,
   "metadata": {},
   "outputs": [
    {
     "data": {
      "text/plain": [
       "3"
      ]
     },
     "execution_count": 82,
     "metadata": {},
     "output_type": "execute_result"
    }
   ],
   "source": [
    "from toolz import flip\n",
    "\n",
    "def div(a, b):\n",
    "    return a // b\n",
    "\n",
    "flip(div, 2, 6)"
   ]
  },
  {
   "cell_type": "code",
   "execution_count": 83,
   "metadata": {},
   "outputs": [
    {
     "data": {
      "text/plain": [
       "<function flip at 0x7f24848bfe18>"
      ]
     },
     "execution_count": 83,
     "metadata": {},
     "output_type": "execute_result"
    }
   ],
   "source": [
    "div_by_two = flip(div, 2)\n",
    "div_by_two"
   ]
  },
  {
   "cell_type": "code",
   "execution_count": 84,
   "metadata": {},
   "outputs": [
    {
     "data": {
      "text/plain": [
       "2"
      ]
     },
     "execution_count": 84,
     "metadata": {},
     "output_type": "execute_result"
    }
   ],
   "source": [
    "div_by_two(4)"
   ]
  },
  {
   "cell_type": "markdown",
   "metadata": {},
   "source": [
    "## toolz.functoolz.identity()\n",
    "\n",
    "Identity function. Return x."
   ]
  },
  {
   "cell_type": "code",
   "execution_count": 85,
   "metadata": {},
   "outputs": [
    {
     "data": {
      "text/plain": [
       "3"
      ]
     },
     "execution_count": 85,
     "metadata": {},
     "output_type": "execute_result"
    }
   ],
   "source": [
    "from toolz import identity\n",
    "\n",
    "identity(3)"
   ]
  },
  {
   "cell_type": "markdown",
   "metadata": {},
   "source": [
    "## toolz.functoolz.juxt()\n",
    "\n",
    "Creates a function that calls several functions with the same arguments. Takes several functions and returns a function that applies its arguments to each of those functions then returns\n",
    "a tuple of the results."
   ]
  },
  {
   "cell_type": "code",
   "execution_count": 86,
   "metadata": {},
   "outputs": [
    {
     "data": {
      "text/plain": [
       "(11, 20)"
      ]
     },
     "execution_count": 86,
     "metadata": {},
     "output_type": "execute_result"
    }
   ],
   "source": [
    "from toolz import juxt\n",
    "\n",
    "inc = lambda x: x + 1\n",
    "double = lambda x: x * 2\n",
    "juxt(inc, double)(10)"
   ]
  },
  {
   "cell_type": "code",
   "execution_count": 87,
   "metadata": {},
   "outputs": [
    {
     "data": {
      "text/plain": [
       "(11, 20)"
      ]
     },
     "execution_count": 87,
     "metadata": {},
     "output_type": "execute_result"
    }
   ],
   "source": [
    "juxt([inc, double])(10)"
   ]
  },
  {
   "cell_type": "markdown",
   "metadata": {},
   "source": [
    "## toolz.functoolz.memoize()\n",
    "\n",
    "Cache a function’s result for speedy future evaluation."
   ]
  },
  {
   "cell_type": "code",
   "execution_count": 88,
   "metadata": {},
   "outputs": [
    {
     "data": {
      "text/plain": [
       "<function toolz.functoolz.memoize.<locals>.memof(x, y)>"
      ]
     },
     "execution_count": 88,
     "metadata": {},
     "output_type": "execute_result"
    }
   ],
   "source": [
    "from toolz import memoize\n",
    "\n",
    "def add(x, y): return x + y\n",
    "\n",
    "add = memoize(add)\n",
    "add"
   ]
  },
  {
   "cell_type": "code",
   "execution_count": 89,
   "metadata": {},
   "outputs": [
    {
     "data": {
      "text/plain": [
       "<function toolz.functoolz.memoize.<locals>.memof(x, y)>"
      ]
     },
     "execution_count": 89,
     "metadata": {},
     "output_type": "execute_result"
    }
   ],
   "source": [
    "@memoize\n",
    "def add(x, y):\n",
    "    return x + y\n",
    "\n",
    "add"
   ]
  },
  {
   "cell_type": "markdown",
   "metadata": {},
   "source": [
    "## toolz.functoolz.pipe()\n",
    "\n",
    "Pipe a value through a sequence of functions.\n",
    "\n",
    "`pipe(data, f, g, h)` equivalent to `h(g(f(data)))`."
   ]
  },
  {
   "cell_type": "code",
   "execution_count": 90,
   "metadata": {},
   "outputs": [
    {
     "data": {
      "text/plain": [
       "'6'"
      ]
     },
     "execution_count": 90,
     "metadata": {},
     "output_type": "execute_result"
    }
   ],
   "source": [
    "from toolz import pipe\n",
    "\n",
    "double = lambda i: 2 * i\n",
    "pipe(3, double, str)"
   ]
  },
  {
   "cell_type": "markdown",
   "metadata": {},
   "source": [
    "## toolz.functoolz.thread_first()\n",
    "\n",
    "Thread value through a sequence of functions/forms."
   ]
  },
  {
   "cell_type": "code",
   "execution_count": 91,
   "metadata": {},
   "outputs": [
    {
     "data": {
      "text/plain": [
       "25"
      ]
     },
     "execution_count": 91,
     "metadata": {},
     "output_type": "execute_result"
    }
   ],
   "source": [
    "from toolz import thread_first\n",
    "\n",
    "def add(x, y): return x + y\n",
    "\n",
    "def pow(x, y): return x**y\n",
    "\n",
    "# pow(add(1, 4), 2)\n",
    "thread_first(1, (add, 4), (pow, 2))"
   ]
  },
  {
   "cell_type": "markdown",
   "metadata": {},
   "source": [
    "## toolz.functoolz.thread_last()\n",
    "\n",
    "Thread value through a sequence of functions/forms."
   ]
  },
  {
   "cell_type": "code",
   "execution_count": 92,
   "metadata": {},
   "outputs": [
    {
     "data": {
      "text/plain": [
       "32"
      ]
     },
     "execution_count": 92,
     "metadata": {},
     "output_type": "execute_result"
    }
   ],
   "source": [
    "from toolz import thread_last\n",
    "\n",
    "def add(x, y): return x + y\n",
    "\n",
    "def pow(x, y): return x**y\n",
    "\n",
    "# pow(2, add(4, 1))\n",
    "thread_last(1, (add, 4), (pow, 2))"
   ]
  }
 ],
 "metadata": {
  "kernelspec": {
   "display_name": "Python 3",
   "language": "python",
   "name": "python3"
  },
  "language_info": {
   "codemirror_mode": {
    "name": "ipython",
    "version": 3
   },
   "file_extension": ".py",
   "mimetype": "text/x-python",
   "name": "python",
   "nbconvert_exporter": "python",
   "pygments_lexer": "ipython3",
   "version": "3.6.7"
  }
 },
 "nbformat": 4,
 "nbformat_minor": 2
}
