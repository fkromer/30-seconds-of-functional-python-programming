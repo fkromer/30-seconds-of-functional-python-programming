{
 "cells": [
  {
   "cell_type": "markdown",
   "metadata": {},
   "source": [
    "# itertools\n",
    "\n",
    "> This module implements a number of iterator building blocks inspired by constructs from APL, Haskell, and SML. Each has been recast in a form suitable for Python. The module standardizes a core set of fast, memory efficient tools that are useful by themselves or in combination. Together, they form an “iterator algebra” making it possible to construct specialized tools succinctly and efficiently in pure Python.\n",
    "\n",
    "[Python 3 Standard Library - itertools](https://docs.python.org/3/library/itertools.html)\n",
    "\n",
    "Infinite iterators\n",
    " - count()\n",
    " - cycle()\n",
    " - repeat()\n",
    "\n",
    "Iterators terminating on the shortest input sequence:\n",
    " - accumulate()\n",
    " - chain()\n",
    " - chain.from_iterable()\n",
    " - compress()\n",
    " - dropwhile()\n",
    " - filterfalse()\n",
    " - groupby()\n",
    " - islice()\n",
    " - starmap()\n",
    " - takewhile()\n",
    " - tee()\n",
    " - zip_longest()\n",
    "\n",
    "Combinatoric iterators:\n",
    " - product()\n",
    " - permutations()\n",
    " - combinations()\n",
    " - combinations_with_replacement()"
   ]
  },
  {
   "cell_type": "markdown",
   "metadata": {},
   "source": [
    "## accumulate()\n",
    "\n",
    "Return series of accumulated sums (or other binary function results).\n",
    "\n",
    "[Python 3 Standard Library - itertools.accumulate](https://docs.python.org/3/library/itertools.html#itertools.accumulate)"
   ]
  },
  {
   "cell_type": "code",
   "execution_count": 1,
   "metadata": {},
   "outputs": [
    {
     "data": {
      "text/plain": [
       "[1, 3, 6]"
      ]
     },
     "execution_count": 1,
     "metadata": {},
     "output_type": "execute_result"
    }
   ],
   "source": [
    "from itertools import accumulate\n",
    "\n",
    "accumulations = accumulate([1, 2, 3])\n",
    "list(accumulations)"
   ]
  },
  {
   "cell_type": "markdown",
   "metadata": {},
   "source": [
    "## chain()\n",
    "\n",
    "Return a chain object whose __next__() method returns elements from the first iterable until it is exhausted, then elements from the next iterable, until all of the iterables are exhausted.\n",
    "\n",
    "[Python 3 Standard Library - itertools.chain](https://docs.python.org/3/library/itertools.html#itertools.chain)"
   ]
  },
  {
   "cell_type": "code",
   "execution_count": 2,
   "metadata": {},
   "outputs": [
    {
     "data": {
      "text/plain": [
       "<itertools.chain at 0x7fa8fefc9ac8>"
      ]
     },
     "execution_count": 2,
     "metadata": {},
     "output_type": "execute_result"
    }
   ],
   "source": [
    "# Example (slightly modified) from:\n",
    "# https://realpython.com/python-itertools/#section-recap_2\n",
    "\n",
    "from itertools import chain\n",
    "\n",
    "chained_iterator = chain('abc', [1, 2, 3])\n",
    "chained_iterator"
   ]
  },
  {
   "cell_type": "code",
   "execution_count": 3,
   "metadata": {},
   "outputs": [
    {
     "data": {
      "text/plain": [
       "['a', 'b', 'c', 1, 2, 3]"
      ]
     },
     "execution_count": 3,
     "metadata": {},
     "output_type": "execute_result"
    }
   ],
   "source": [
    "list(chained_iterator)"
   ]
  },
  {
   "cell_type": "markdown",
   "metadata": {},
   "source": [
    "## chain.from_iterable()\n",
    "\n",
    "Alternate constructor for chain(). Gets chained inputs from a single iterable argument.\n",
    "\n",
    "[Python 3 Standard Library - itertools.chain.from_iterable](https://docs.python.org/3/library/itertools.html#itertools.chain.from_iterable)"
   ]
  },
  {
   "cell_type": "code",
   "execution_count": 4,
   "metadata": {},
   "outputs": [
    {
     "data": {
      "text/plain": [
       "<itertools.chain at 0x7fa8fefc9e80>"
      ]
     },
     "execution_count": 4,
     "metadata": {},
     "output_type": "execute_result"
    }
   ],
   "source": [
    "from itertools import chain\n",
    "\n",
    "chained_iterator = chain.from_iterable(['ABC', 'DEF'])\n",
    "chained_iterator"
   ]
  },
  {
   "cell_type": "code",
   "execution_count": 5,
   "metadata": {},
   "outputs": [
    {
     "data": {
      "text/plain": [
       "['A', 'B', 'C', 'D', 'E', 'F']"
      ]
     },
     "execution_count": 5,
     "metadata": {},
     "output_type": "execute_result"
    }
   ],
   "source": [
    "list(chained_iterator)"
   ]
  },
  {
   "cell_type": "markdown",
   "metadata": {},
   "source": [
    "## combinations()\n",
    "\n",
    "Return successive n-length combinations of elements in the iterable.\n",
    "\n",
    "[Python 3 Standard Library - itertools.combinations](https://docs.python.org/3/library/itertools.html#itertools.combinations)"
   ]
  },
  {
   "cell_type": "code",
   "execution_count": 6,
   "metadata": {},
   "outputs": [
    {
     "data": {
      "text/plain": [
       "[(1, 2), (1, 3), (2, 3)]"
      ]
     },
     "execution_count": 6,
     "metadata": {},
     "output_type": "execute_result"
    }
   ],
   "source": [
    "# Example (slightly modified) from:\n",
    "# https://realpython.com/python-itertools/#section-recap\n",
    "\n",
    "from itertools import combinations\n",
    "\n",
    "combinations = combinations([1, 2, 3], 2)\n",
    "list(combinations)"
   ]
  },
  {
   "cell_type": "markdown",
   "metadata": {},
   "source": [
    "## combinations_with_replacement()\n",
    "\n",
    "Return successive n-length combinations of elements in the iterable allowing individual elements to have successive repeats.\n",
    "\n",
    "[Python 3 Standard Library - itertools.combinations_with_replacement](https://docs.python.org/3/library/itertools.html#itertools.combinations_with_replacement)"
   ]
  },
  {
   "cell_type": "code",
   "execution_count": 7,
   "metadata": {},
   "outputs": [
    {
     "data": {
      "text/plain": [
       "[(1, 1), (1, 2), (1, 3), (2, 2), (2, 3), (3, 3)]"
      ]
     },
     "execution_count": 7,
     "metadata": {},
     "output_type": "execute_result"
    }
   ],
   "source": [
    "# Example (slightly modified) from:\n",
    "# https://realpython.com/python-itertools/#section-recap\n",
    "\n",
    "from itertools import combinations_with_replacement\n",
    "\n",
    "combinations = combinations_with_replacement([1, 2, 3], 2)\n",
    "list(combinations)"
   ]
  },
  {
   "cell_type": "markdown",
   "metadata": {},
   "source": [
    "## compress()\n",
    "\n",
    "Make an iterator that filters elements from data returning only those that have a corresponding element in selectors that evaluates to True.\n",
    "\n",
    "[Python 3 Standard Library - itertools.compress](https://docs.python.org/3/library/itertools.html#itertools.compress)"
   ]
  },
  {
   "cell_type": "code",
   "execution_count": 8,
   "metadata": {},
   "outputs": [
    {
     "data": {
      "text/plain": [
       "<itertools.compress at 0x7fa8feffd668>"
      ]
     },
     "execution_count": 8,
     "metadata": {},
     "output_type": "execute_result"
    }
   ],
   "source": [
    "from itertools import compress\n",
    "\n",
    "filtered_values = compress('ABCDEF', [1,0,1,0,1,1])\n",
    "filtered_values"
   ]
  },
  {
   "cell_type": "code",
   "execution_count": 9,
   "metadata": {},
   "outputs": [
    {
     "data": {
      "text/plain": [
       "['A', 'C', 'E', 'F']"
      ]
     },
     "execution_count": 9,
     "metadata": {},
     "output_type": "execute_result"
    }
   ],
   "source": [
    "list(filtered_values)"
   ]
  },
  {
   "cell_type": "markdown",
   "metadata": {},
   "source": [
    "## count()\n",
    "\n",
    "Return a count object whose .__next__() method returns consecutive values.\n",
    "\n",
    "[Python 3 Standard Library - itertools.count](https://docs.python.org/3/library/itertools.html#itertools.count)\n",
    "\n",
    "```\n",
    "# Example from:\n",
    "# https://realpython.com/python-itertools/#section-recap\n",
    "\n",
    ">>> from itertools import count\n",
    ">>> count(start=1, step=2)\n",
    "1, 3, 5, 7, 9, ...\n",
    "```"
   ]
  },
  {
   "cell_type": "markdown",
   "metadata": {},
   "source": [
    "## cycle()\n",
    "\n",
    "Return elements from the iterable until it is exhausted. Then repeat the sequence indefinitely.\n",
    "\n",
    "[Python 3 Standard Library - itertools.cycle](https://docs.python.org/3/library/itertools.html#itertools.cycle)\n",
    "\n",
    "```\n",
    ">>> from itertools import cycle\n",
    ">>> cycle('ABCD')\n",
    "A B C D A B C D A B C D ...\n",
    "```"
   ]
  },
  {
   "cell_type": "markdown",
   "metadata": {},
   "source": [
    "## dropwhile()\n",
    "\n",
    "Drop items from the iterable while pred(item) is true. Afterwards, return every element until the iterable is exhausted.\n",
    "\n",
    "[Python 3 Standard Library - itertools.dropwhile](https://docs.python.org/3/library/itertools.html#itertools.dropwhile)"
   ]
  },
  {
   "cell_type": "code",
   "execution_count": 10,
   "metadata": {},
   "outputs": [
    {
     "data": {
      "text/plain": [
       "<itertools.dropwhile at 0x7fa8feff97c8>"
      ]
     },
     "execution_count": 10,
     "metadata": {},
     "output_type": "execute_result"
    }
   ],
   "source": [
    "from itertools import dropwhile\n",
    "\n",
    "filtered_values = dropwhile(lambda x: x<5, [1,4,6,4,1])\n",
    "filtered_values"
   ]
  },
  {
   "cell_type": "code",
   "execution_count": 11,
   "metadata": {},
   "outputs": [
    {
     "data": {
      "text/plain": [
       "[6, 4, 1]"
      ]
     },
     "execution_count": 11,
     "metadata": {},
     "output_type": "execute_result"
    }
   ],
   "source": [
    "list(filtered_values)"
   ]
  },
  {
   "cell_type": "markdown",
   "metadata": {},
   "source": [
    "## islice()\n",
    "\n",
    "Return an iterator whose __next__() method returns selected values from an iterable. Works like a slice() on a list but returns an iterator.\n",
    "\n",
    "[Python 3 Standard Library - itertools.islice](https://docs.python.org/3/library/itertools.html#itertools.islice)"
   ]
  },
  {
   "cell_type": "code",
   "execution_count": 12,
   "metadata": {},
   "outputs": [
    {
     "data": {
      "text/plain": [
       "<itertools.islice at 0x7fa8feff5ef8>"
      ]
     },
     "execution_count": 12,
     "metadata": {},
     "output_type": "execute_result"
    }
   ],
   "source": [
    "from itertools import islice\n",
    "\n",
    "iterable = [0, 1, 2, 3, 4, 5, 6, 7, 8, 9]\n",
    "sliced_iterator = islice(iterable, 1, 7, 2)  # iterable, start, stop, step\n",
    "sliced_iterator"
   ]
  },
  {
   "cell_type": "code",
   "execution_count": 13,
   "metadata": {},
   "outputs": [
    {
     "data": {
      "text/plain": [
       "[1, 3, 5]"
      ]
     },
     "execution_count": 13,
     "metadata": {},
     "output_type": "execute_result"
    }
   ],
   "source": [
    "list(sliced_iterator)"
   ]
  },
  {
   "cell_type": "markdown",
   "metadata": {},
   "source": [
    "## filterfalse()\n",
    "\n",
    "Return those items of sequence for which pred(item) is false. If pred is None, return the items that are false.\n",
    "\n",
    "[Python 3 Standard Library - itertools.filterfalse](https://docs.python.org/3/library/itertools.html#itertools.filterfalse)"
   ]
  },
  {
   "cell_type": "code",
   "execution_count": 14,
   "metadata": {},
   "outputs": [
    {
     "data": {
      "text/plain": [
       "<itertools.filterfalse at 0x7fa8feffdba8>"
      ]
     },
     "execution_count": 14,
     "metadata": {},
     "output_type": "execute_result"
    }
   ],
   "source": [
    "# Example from:\n",
    "# https://docs.python.org/3/library/itertools.html#itertools.filterfalse\n",
    "\n",
    "from itertools import filterfalse\n",
    "\n",
    "even_numbers = filterfalse(lambda x: x%2, range(10))\n",
    "even_numbers"
   ]
  },
  {
   "cell_type": "code",
   "execution_count": 15,
   "metadata": {},
   "outputs": [
    {
     "data": {
      "text/plain": [
       "[0, 2, 4, 6, 8]"
      ]
     },
     "execution_count": 15,
     "metadata": {},
     "output_type": "execute_result"
    }
   ],
   "source": [
    "list(even_numbers)"
   ]
  },
  {
   "cell_type": "markdown",
   "metadata": {},
   "source": [
    "## groupby()\n",
    "\n",
    "Make an iterator that returns consecutive keys and groups from the iterable.\n",
    "\n",
    "[Python 3 Standard Library - itertools.groupby](https://docs.python.org/3/library/itertools.html#itertools.groupby)"
   ]
  },
  {
   "cell_type": "code",
   "execution_count": 16,
   "metadata": {},
   "outputs": [
    {
     "data": {
      "text/plain": [
       "<generator object <genexpr> at 0x7fa90c058b48>"
      ]
     },
     "execution_count": 16,
     "metadata": {},
     "output_type": "execute_result"
    }
   ],
   "source": [
    "from itertools import groupby\n",
    "\n",
    "grouped_values = (k for k, g in groupby('AAAABBBCCDAABBB'))\n",
    "grouped_values"
   ]
  },
  {
   "cell_type": "code",
   "execution_count": 17,
   "metadata": {},
   "outputs": [
    {
     "data": {
      "text/plain": [
       "['A', 'B', 'C', 'D', 'A', 'B']"
      ]
     },
     "execution_count": 17,
     "metadata": {},
     "output_type": "execute_result"
    }
   ],
   "source": [
    "list(grouped_values)"
   ]
  },
  {
   "cell_type": "markdown",
   "metadata": {},
   "source": [
    "## permutations()\n",
    "\n",
    "Return successive n-length permutations of elements in the iterable.\n",
    "\n",
    "[Python 3 Standard Library - itertools.permutations](https://docs.python.org/3/library/itertools.html#itertools.permutations)"
   ]
  },
  {
   "cell_type": "code",
   "execution_count": 18,
   "metadata": {},
   "outputs": [
    {
     "data": {
      "text/plain": [
       "[('a', 'b', 'c'),\n",
       " ('a', 'c', 'b'),\n",
       " ('b', 'a', 'c'),\n",
       " ('b', 'c', 'a'),\n",
       " ('c', 'a', 'b'),\n",
       " ('c', 'b', 'a')]"
      ]
     },
     "execution_count": 18,
     "metadata": {},
     "output_type": "execute_result"
    }
   ],
   "source": [
    "# Example (slightly modified) from:\n",
    "# https://realpython.com/python-itertools/#section-recap\n",
    "\n",
    "from itertools import permutations\n",
    "\n",
    "permutations = permutations('abc')\n",
    "list(permutations)"
   ]
  },
  {
   "cell_type": "markdown",
   "metadata": {},
   "source": [
    "## product()\n",
    "\n",
    "Cartesian product of input iterables. Equivalent to nested for-loops.\n",
    "\n",
    "    ((x,y) for x in A for y in B)\n",
    "\n",
    "[Python 3 Standard Library - itertools.product](https://docs.python.org/3/library/itertools.html#itertools.product)"
   ]
  },
  {
   "cell_type": "code",
   "execution_count": 19,
   "metadata": {},
   "outputs": [
    {
     "data": {
      "text/plain": [
       "<itertools.product at 0x7fa8fefe3990>"
      ]
     },
     "execution_count": 19,
     "metadata": {},
     "output_type": "execute_result"
    }
   ],
   "source": [
    "# Example (slightly modified) from:\n",
    "# https://realpython.com/python-itertools/#section-recap_2\n",
    "\n",
    "from itertools import product\n",
    "\n",
    "product = product([1, 2], ['a', 'b'])\n",
    "product"
   ]
  },
  {
   "cell_type": "code",
   "execution_count": 20,
   "metadata": {},
   "outputs": [
    {
     "data": {
      "text/plain": [
       "[(1, 'a'), (1, 'b'), (2, 'a'), (2, 'b')]"
      ]
     },
     "execution_count": 20,
     "metadata": {},
     "output_type": "execute_result"
    }
   ],
   "source": [
    "list(product)"
   ]
  },
  {
   "cell_type": "code",
   "execution_count": 21,
   "metadata": {},
   "outputs": [
    {
     "data": {
      "text/plain": [
       "<generator object <genexpr> at 0x7fa90c058ca8>"
      ]
     },
     "execution_count": 21,
     "metadata": {},
     "output_type": "execute_result"
    }
   ],
   "source": [
    "# Example (slightly modified)  from:\n",
    "# https://docs.python.org/3/library/itertools.html#itertools.product\n",
    "\n",
    "same_product = ((x,y) for x in [1, 2] for y in ['a', 'b'])\n",
    "same_product"
   ]
  },
  {
   "cell_type": "code",
   "execution_count": 22,
   "metadata": {},
   "outputs": [
    {
     "data": {
      "text/plain": [
       "[(1, 'a'), (1, 'b'), (2, 'a'), (2, 'b')]"
      ]
     },
     "execution_count": 22,
     "metadata": {},
     "output_type": "execute_result"
    }
   ],
   "source": [
    "list(same_product)"
   ]
  },
  {
   "cell_type": "markdown",
   "metadata": {},
   "source": [
    "## repeat()\n",
    "\n",
    "Create an iterator which returns the object for the specified number of times. If not specified, returns the object endlessly.\n",
    "\n",
    "[Python 3 Standard Library - itertools.repeat](https://docs.python.org/3/library/itertools.html#itertools.repeat)"
   ]
  },
  {
   "cell_type": "code",
   "execution_count": 23,
   "metadata": {},
   "outputs": [
    {
     "data": {
      "text/plain": [
       "[2, 2, 2, 2, 2]"
      ]
     },
     "execution_count": 23,
     "metadata": {},
     "output_type": "execute_result"
    }
   ],
   "source": [
    "# Example (slightly modified) from:\n",
    "# https://realpython.com/python-itertools/#section-recap\n",
    "\n",
    "from itertools import repeat\n",
    "\n",
    "repetitions = repeat(2, 5)\n",
    "list(repetitions)"
   ]
  },
  {
   "cell_type": "markdown",
   "metadata": {},
   "source": [
    "## starmap()\n",
    "\n",
    "Make an iterator that computes the function using arguments obtained from the iterable. Used instead of [map()](https://docs.python.org/3/library/functions.html#map) when argument parameters are already grouped in tuples from a single iterable (the data has been “pre-zipped”)\n",
    "\n",
    "[Python 3 Standard Library - itertools.starmap](https://docs.python.org/3/library/itertools.html#itertools.starmap)"
   ]
  },
  {
   "cell_type": "code",
   "execution_count": 24,
   "metadata": {},
   "outputs": [
    {
     "data": {
      "text/plain": [
       "<itertools.starmap at 0x7fa8feffdf60>"
      ]
     },
     "execution_count": 24,
     "metadata": {},
     "output_type": "execute_result"
    }
   ],
   "source": [
    "from itertools import starmap\n",
    "\n",
    "powers = starmap(pow, [(2,5), (3,2), (10,3)])\n",
    "powers"
   ]
  },
  {
   "cell_type": "code",
   "execution_count": 25,
   "metadata": {},
   "outputs": [
    {
     "data": {
      "text/plain": [
       "[32, 9, 1000]"
      ]
     },
     "execution_count": 25,
     "metadata": {},
     "output_type": "execute_result"
    }
   ],
   "source": [
    "list(powers)"
   ]
  },
  {
   "cell_type": "markdown",
   "metadata": {},
   "source": [
    "## takewhile()\n",
    "\n",
    "Make an iterator that returns elements from the iterable as long as the predicate is true.\n",
    "\n",
    "[Python 3 Standard Library - itertools.takewhile](https://docs.python.org/3/library/itertools.html#itertools.takewhile)"
   ]
  },
  {
   "cell_type": "code",
   "execution_count": 26,
   "metadata": {},
   "outputs": [
    {
     "data": {
      "text/plain": [
       "<itertools.takewhile at 0x7fa8fe77f5c8>"
      ]
     },
     "execution_count": 26,
     "metadata": {},
     "output_type": "execute_result"
    }
   ],
   "source": [
    "# Example from:\n",
    "# https://docs.python.org/3/library/itertools.html#itertools.takewhile\n",
    "\n",
    "from itertools import takewhile\n",
    "\n",
    "filtered_values = takewhile(lambda x: x<5, [1,4,6,4,1])\n",
    "filtered_values"
   ]
  },
  {
   "cell_type": "code",
   "execution_count": 27,
   "metadata": {},
   "outputs": [
    {
     "data": {
      "text/plain": [
       "[1, 4]"
      ]
     },
     "execution_count": 27,
     "metadata": {},
     "output_type": "execute_result"
    }
   ],
   "source": [
    "list(filtered_values)"
   ]
  },
  {
   "cell_type": "markdown",
   "metadata": {},
   "source": [
    "## tee()\n",
    "\n",
    "Create any number of independent iterators from a single input iterable.\n",
    "\n",
    "[Python 3 Standard Library - itertools.tee](https://docs.python.org/3/library/itertools.html#itertools.tee)"
   ]
  },
  {
   "cell_type": "code",
   "execution_count": 28,
   "metadata": {},
   "outputs": [],
   "source": [
    "# Example (slightly modified) from:\n",
    "# https://realpython.com/python-itertools/#section-recap_2\n",
    "\n",
    "from itertools import tee\n",
    "\n",
    "iterable = ['a', 'b', 'c']\n",
    "clone_1, clone_2 = tee(iterable, 2)"
   ]
  },
  {
   "cell_type": "code",
   "execution_count": 29,
   "metadata": {},
   "outputs": [
    {
     "data": {
      "text/plain": [
       "['a', 'b', 'c']"
      ]
     },
     "execution_count": 29,
     "metadata": {},
     "output_type": "execute_result"
    }
   ],
   "source": [
    "list(clone_1)"
   ]
  },
  {
   "cell_type": "code",
   "execution_count": 30,
   "metadata": {},
   "outputs": [
    {
     "data": {
      "text/plain": [
       "['a', 'b', 'c']"
      ]
     },
     "execution_count": 30,
     "metadata": {},
     "output_type": "execute_result"
    }
   ],
   "source": [
    "list(clone_2)"
   ]
  },
  {
   "cell_type": "markdown",
   "metadata": {},
   "source": [
    "## zip_longest()\n",
    "\n",
    "Make an iterator that aggregates elements from each of the iterables.\n",
    "\n",
    "[Python 3 Standard Library - itertools.zip_longest](https://docs.python.org/3/library/itertools.html#itertools.zip_longest)"
   ]
  },
  {
   "cell_type": "code",
   "execution_count": 31,
   "metadata": {},
   "outputs": [
    {
     "data": {
      "text/plain": [
       "<itertools.zip_longest at 0x7fa8fe784098>"
      ]
     },
     "execution_count": 31,
     "metadata": {},
     "output_type": "execute_result"
    }
   ],
   "source": [
    "from itertools import zip_longest\n",
    "\n",
    "zipped = zip_longest('ABCD', 'xy', fillvalue='-')\n",
    "zipped"
   ]
  },
  {
   "cell_type": "code",
   "execution_count": 32,
   "metadata": {},
   "outputs": [
    {
     "data": {
      "text/plain": [
       "[('A', 'x'), ('B', 'y'), ('C', '-'), ('D', '-')]"
      ]
     },
     "execution_count": 32,
     "metadata": {},
     "output_type": "execute_result"
    }
   ],
   "source": [
    "list(zipped)"
   ]
  }
 ],
 "metadata": {
  "kernelspec": {
   "display_name": "Python 3",
   "language": "python",
   "name": "python3"
  },
  "language_info": {
   "codemirror_mode": {
    "name": "ipython",
    "version": 3
   },
   "file_extension": ".py",
   "mimetype": "text/x-python",
   "name": "python",
   "nbconvert_exporter": "python",
   "pygments_lexer": "ipython3",
   "version": "3.6.7"
  }
 },
 "nbformat": 4,
 "nbformat_minor": 2
}
